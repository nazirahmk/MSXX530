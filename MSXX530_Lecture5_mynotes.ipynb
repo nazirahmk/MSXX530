{
  "nbformat": 4,
  "nbformat_minor": 0,
  "metadata": {
    "colab": {
      "provenance": [],
      "authorship_tag": "ABX9TyP3H+8QNQvxCthRW7mnq7+6",
      "include_colab_link": true
    },
    "kernelspec": {
      "name": "python3",
      "display_name": "Python 3"
    },
    "language_info": {
      "name": "python"
    }
  },
  "cells": [
    {
      "cell_type": "markdown",
      "metadata": {
        "id": "view-in-github",
        "colab_type": "text"
      },
      "source": [
        "<a href=\"https://colab.research.google.com/github/nazirahmk/MSXX530/blob/main/MSXX530_Lecture5_mynotes.ipynb\" target=\"_parent\"><img src=\"https://colab.research.google.com/assets/colab-badge.svg\" alt=\"Open In Colab\"/></a>"
      ]
    },
    {
      "cell_type": "code",
      "execution_count": null,
      "metadata": {
        "id": "8_xH7dPjHVcm"
      },
      "outputs": [],
      "source": [
        "import math\n",
        "import numpy as np\n",
        "import scipy.stats as stats"
      ]
    },
    {
      "cell_type": "markdown",
      "source": [
        "[Slide 14]\n",
        "\n",
        "From the previous example,\n",
        "\n",
        "\n",
        "*   Compute the theoretical mean and standard error of p̂\n",
        "*   Estimate how frequently the sample proportion, p̂, should be within 0.02 (2%) of the population value, *p* = 0.88.\n",
        "\n"
      ],
      "metadata": {
        "id": "0BaNllwfHbsV"
      }
    },
    {
      "cell_type": "code",
      "source": [
        "# Compute mean and standard error of sample proportion\n",
        "p = 0.88\n",
        "n = 1000\n",
        "miu_phat = p\n",
        "SE_phat = math.sqrt(p*(1-p)/n)\n",
        "print(f\"Theoretical Mean: \\t{miu_phat}\")\n",
        "print(f\"Standard Error: \\t{SE_phat}\")"
      ],
      "metadata": {
        "id": "paEeC5LxJB7Q",
        "colab": {
          "base_uri": "https://localhost:8080/"
        },
        "outputId": "05e724ca-ef81-4cdf-8598-07b725ea03fb"
      },
      "execution_count": null,
      "outputs": [
        {
          "output_type": "stream",
          "name": "stdout",
          "text": [
            "Theoretical Mean: \t0.88\n",
            "Standard Error: \t0.010276186062932104\n"
          ]
        }
      ]
    },
    {
      "cell_type": "code",
      "source": [
        "# Estimate frequency within 0.02\n",
        "left = p - 0.02\n",
        "right = p + 0.02\n",
        "zscoreleft = (left - miu_phat)/SE_phat\n",
        "zscoreright = (right - miu_phat)/SE_phat\n",
        "freqleft = stats.norm.cdf(zscoreleft)\n",
        "freqright = stats.norm.cdf(zscoreright)\n",
        "\n",
        "FreqWithin = 1 - (1-freqright) - freqleft\n",
        "\n",
        "print(f\"Z-score({left}): \\t{zscoreleft:0.2f}\")\n",
        "print(f\"Z-score({right}): \\t{zscoreright:0.2f}\")\n",
        "print(f\"Frequency({left}): \\t{freqleft:0.2f}\")\n",
        "print(f\"Frequency({right}): \\t{freqright:0.2f}\")\n",
        "print(f\"Frequency within 0.02 of population value is {FreqWithin*100:0.2f}%\")"
      ],
      "metadata": {
        "id": "Ywkee3cZJP9d",
        "colab": {
          "base_uri": "https://localhost:8080/"
        },
        "outputId": "966a41da-6a7e-4ef2-d253-5392107bacf0"
      },
      "execution_count": null,
      "outputs": [
        {
          "output_type": "stream",
          "name": "stdout",
          "text": [
            "Z-score(0.86): \t-1.95\n",
            "Z-score(0.9): \t1.95\n",
            "Frequency(0.86): \t0.03\n",
            "Frequency(0.9): \t0.97\n",
            "Frequency within 0.02 of population value is 94.84%\n"
          ]
        }
      ]
    },
    {
      "cell_type": "markdown",
      "source": [
        "Finding Z-star for a specific confidence interval: We can use `stats.norm.ppf` (which also mean x when`P(X≤x)=1-CI`)"
      ],
      "metadata": {
        "id": "AlSzp2rZg1dy"
      }
    },
    {
      "cell_type": "code",
      "source": [
        "# set confidence interval\n",
        "CI = 0.95\n",
        "zscore = stats.norm.ppf((1-CI)/2)\n",
        "print(f\"Z-score for {CI} confidence interval is {zscore:0.2f} and {-zscore:0.2f}\")"
      ],
      "metadata": {
        "id": "TDunT7TYKUAW",
        "colab": {
          "base_uri": "https://localhost:8080/"
        },
        "outputId": "d4e3b35f-dce7-4ff6-8386-0bb58e6a4577"
      },
      "execution_count": null,
      "outputs": [
        {
          "output_type": "stream",
          "name": "stdout",
          "text": [
            "Z-score for 0.95 confidence interval is -1.96 and 1.96\n"
          ]
        }
      ]
    },
    {
      "cell_type": "markdown",
      "source": [
        "T-distribution: We can find the critical t-value using `stats.t.cdf` (which also mean P(X≤x) in t-distribution) and `stats.t.ppf` (which also mean x when`P(X≤x)=1-CI`)"
      ],
      "metadata": {
        "id": "ktgOMwg00c8H"
      }
    },
    {
      "cell_type": "code",
      "source": [
        "# Example 7.2\n",
        "# What proportion of the t-distribution with 18 degrees of freedom falls below -2.10? (left tail)\n",
        "tvalue = -2.10\n",
        "degrees_of_freedom = 18\n",
        "pvalue = stats.t.cdf(tvalue, degrees_of_freedom)\n",
        "print(f\"P(X≤{tvalue}) = {pvalue:0.3f}\")\n",
        "\n",
        "# To find the opposite way (you have the confidence interval, you want to find the critical value)\n",
        "confidence_level = 0.975\n",
        "alpha = 1 - confidence_level\n",
        "degrees_of_freedom = 18\n",
        "t_critical = stats.t.ppf(alpha, degrees_of_freedom)\n",
        "\n",
        "print(f\"T-critical value for {confidence_level} confidence level with {degrees_of_freedom} degrees of freedom is {t_critical:0.2f}\")"
      ],
      "metadata": {
        "id": "ZSM9Cc310oNr",
        "colab": {
          "base_uri": "https://localhost:8080/"
        },
        "outputId": "8a73372e-3953-4271-e1a7-0ff0ee9df2c8"
      },
      "execution_count": null,
      "outputs": [
        {
          "output_type": "stream",
          "name": "stdout",
          "text": [
            "P(X≤-2.1) = 0.025\n",
            "T-critical value for 0.975 confidence level with 18 degrees of freedom is -2.10\n"
          ]
        }
      ]
    },
    {
      "cell_type": "code",
      "source": [
        "# Example 7.3\n",
        "# What proportion of the t-distribution with 20 degrees of freedom falls above 1.65? (right tail)\n",
        "tvalue = 1.65\n",
        "degrees_of_freedom = 20\n",
        "pvalue = stats.t.cdf(tvalue, degrees_of_freedom)\n",
        "print(f\"P(X≤{tvalue}) = {pvalue:0.3f}\")\n",
        "print(f\"P(X≥{tvalue}) = {1-pvalue:0.3f}\")"
      ],
      "metadata": {
        "id": "SfnRiOGK1ORQ",
        "colab": {
          "base_uri": "https://localhost:8080/"
        },
        "outputId": "d67d394b-40c7-4fb0-dd89-a572645edfcd"
      },
      "execution_count": null,
      "outputs": [
        {
          "output_type": "stream",
          "name": "stdout",
          "text": [
            "P(X≤1.65) = 0.943\n",
            "P(X≥1.65) = 0.057\n"
          ]
        }
      ]
    },
    {
      "cell_type": "code",
      "source": [
        "# Example 7.4\n",
        "# What proportion of the t-distribution with 2 degrees of freedom falls more than 3 units from the mean (above or below)? (two tailed)\n",
        "tvalue = -3\n",
        "degrees_of_freedom = 2\n",
        "pvalue = stats.t.cdf(tvalue, degrees_of_freedom)\n",
        "print(f\"P({tvalue} ≤ X ≤ {-tvalue}) = {2*pvalue:0.3f}\")"
      ],
      "metadata": {
        "id": "LPNTU8NK5cCu",
        "colab": {
          "base_uri": "https://localhost:8080/"
        },
        "outputId": "ca2dcdda-687d-466d-91d0-5a85746d572a"
      },
      "execution_count": null,
      "outputs": [
        {
          "output_type": "stream",
          "name": "stdout",
          "text": [
            "P(-3 ≤ X ≤ 3) = 0.095\n"
          ]
        }
      ]
    },
    {
      "cell_type": "markdown",
      "source": [
        "T-test hypothesis testing"
      ],
      "metadata": {
        "id": "DmzHPImfy-ww"
      }
    },
    {
      "cell_type": "code",
      "source": [
        "tvalue = -4.94\n",
        "dof = 9\n",
        "pvalue = stats.t.cdf(tvalue, dof)\n",
        "print(f\"P(X≤{tvalue} & X≥{-tvalue}) = {2*pvalue}\")\n",
        "\n",
        "if pvalue < 0.05:\n",
        "  print(\"Reject H0\")\n",
        "else:\n",
        "  print(\"Fail to reject H0\")"
      ],
      "metadata": {
        "id": "JMFq-11aexIU",
        "colab": {
          "base_uri": "https://localhost:8080/"
        },
        "outputId": "f74915f1-7e61-4f46-c405-6f2af62c60dd"
      },
      "execution_count": null,
      "outputs": [
        {
          "output_type": "stream",
          "name": "stdout",
          "text": [
            "P(X≤-4.94 & X≥4.94) = 0.0008022393577614288\n",
            "Reject H0\n"
          ]
        }
      ]
    },
    {
      "cell_type": "code",
      "source": [
        "# Another method\n",
        "sample = [698, 1104, 1037, 1889, 1911, 2416, 2761, 4382, 1839, 321]\n",
        "t_stat, p_value = stats.ttest_1samp(sample, popmean=0)\n",
        "print(f\"T-statistic: {t_stat}\")\n",
        "print(f\"P-value: {p_value}\")"
      ],
      "metadata": {
        "id": "Kc1kp-WgBlXJ",
        "colab": {
          "base_uri": "https://localhost:8080/"
        },
        "outputId": "93a67a4c-82f3-4ec2-9efc-91d0e44e6148"
      },
      "execution_count": null,
      "outputs": [
        {
          "output_type": "stream",
          "name": "stdout",
          "text": [
            "T-statistic: 4.93642930331951\n",
            "P-value: 0.0008061843598452322\n"
          ]
        }
      ]
    },
    {
      "cell_type": "code",
      "source": [
        "# find critical value for the\n",
        "confidence_level = 0.975\n",
        "alpha = 1 - confidence_level\n",
        "n = 10\n",
        "degrees_of_freedom = n - 1\n",
        "t_critical = stats.t.ppf(alpha, degrees_of_freedom)\n",
        "\n",
        "print(f\"T-critical value for {confidence_level} confidence level with {degrees_of_freedom} degrees of freedom is {t_critical:0.2f}\")"
      ],
      "metadata": {
        "id": "tAWDPgeUPiVA",
        "colab": {
          "base_uri": "https://localhost:8080/"
        },
        "outputId": "227d5564-fcb9-42ae-c670-c69e5cd08fd0"
      },
      "execution_count": null,
      "outputs": [
        {
          "output_type": "stream",
          "name": "stdout",
          "text": [
            "T-critical value for 0.975 confidence level with 9 degrees of freedom is -2.26\n"
          ]
        }
      ]
    },
    {
      "cell_type": "code",
      "source": [],
      "metadata": {
        "id": "zEQjIQmRR0Xv"
      },
      "execution_count": null,
      "outputs": []
    }
  ]
}